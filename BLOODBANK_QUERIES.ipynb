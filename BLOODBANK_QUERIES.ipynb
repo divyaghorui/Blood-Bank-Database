{
  "nbformat": 4,
  "nbformat_minor": 0,
  "metadata": {
    "colab": {
      "name": "BLOODBANK QUERIES.ipynb",
      "provenance": [],
      "collapsed_sections": []
    },
    "kernelspec": {
      "name": "python3",
      "display_name": "Python 3"
    },
    "language_info": {
      "name": "python"
    }
  },
  "cells": [
    {
      "cell_type": "code",
      "metadata": {
        "colab": {
          "base_uri": "https://localhost:8080/"
        },
        "id": "fdvZF-qe1dBl",
        "outputId": "afec60ee-0009-4147-9693-ef5bd9f74812"
      },
      "source": [
        "import sqlite3\n",
        " \n",
        "# Create and populate the bloodbank database\n",
        "conn_bloodbank = sqlite3.connect(\"bloodbank.db\")\n",
        "cursor = conn_bloodbank.cursor()\n",
        " \n",
        "# Create the tables\n",
        "sql_file = open(\"blood_bank.sql\")\n",
        "sql_bloodbank = sql_file.read()\n",
        "cursor.executescript(sql_bloodbank)\n",
        " \n",
        "# Populate the data\n",
        "sql_file = open(\"blood_bank_data.sql\")\n",
        "sql_bloodbank_data = sql_file.read()\n",
        "cursor.executescript(sql_bloodbank_data)"
      ],
      "execution_count": null,
      "outputs": [
        {
          "output_type": "execute_result",
          "data": {
            "text/plain": [
              "<sqlite3.Cursor at 0x7f4441b33420>"
            ]
          },
          "metadata": {
            "tags": []
          },
          "execution_count": 1
        }
      ]
    },
    {
      "cell_type": "code",
      "metadata": {
        "id": "8T4EmsrIbYiS"
      },
      "source": [
        "import pandas as pd"
      ],
      "execution_count": null,
      "outputs": []
    },
    {
      "cell_type": "code",
      "metadata": {
        "colab": {
          "base_uri": "https://localhost:8080/",
          "height": 343
        },
        "id": "B0uE-VjAWvwp",
        "outputId": "ce78cb3f-1714-47c7-fee0-909ea5a677b8"
      },
      "source": [
        "d1 = '''\n",
        "SELECT * \n",
        "FROM   donor\n",
        "'''\n",
        "table = pd.read_sql_query(d1, conn_bloodbank)\n",
        "table"
      ],
      "execution_count": null,
      "outputs": [
        {
          "output_type": "execute_result",
          "data": {
            "text/html": [
              "<div>\n",
              "<style scoped>\n",
              "    .dataframe tbody tr th:only-of-type {\n",
              "        vertical-align: middle;\n",
              "    }\n",
              "\n",
              "    .dataframe tbody tr th {\n",
              "        vertical-align: top;\n",
              "    }\n",
              "\n",
              "    .dataframe thead th {\n",
              "        text-align: right;\n",
              "    }\n",
              "</style>\n",
              "<table border=\"1\" class=\"dataframe\">\n",
              "  <thead>\n",
              "    <tr style=\"text-align: right;\">\n",
              "      <th></th>\n",
              "      <th>Donor_id</th>\n",
              "      <th>donor_name</th>\n",
              "      <th>DOB</th>\n",
              "      <th>age</th>\n",
              "      <th>Gender</th>\n",
              "      <th>Donor_ph_no</th>\n",
              "    </tr>\n",
              "  </thead>\n",
              "  <tbody>\n",
              "    <tr>\n",
              "      <th>0</th>\n",
              "      <td>D1</td>\n",
              "      <td>Royston Dmello</td>\n",
              "      <td>26-01-2000</td>\n",
              "      <td>21</td>\n",
              "      <td>MALE</td>\n",
              "      <td>7236812648</td>\n",
              "    </tr>\n",
              "    <tr>\n",
              "      <th>1</th>\n",
              "      <td>D2</td>\n",
              "      <td>Nishank Dave</td>\n",
              "      <td>27-02-2000</td>\n",
              "      <td>21</td>\n",
              "      <td>MALE</td>\n",
              "      <td>8936938648</td>\n",
              "    </tr>\n",
              "    <tr>\n",
              "      <th>2</th>\n",
              "      <td>D3</td>\n",
              "      <td>Manan Dodia</td>\n",
              "      <td>20-02-2000</td>\n",
              "      <td>21</td>\n",
              "      <td>MALE</td>\n",
              "      <td>2829982373</td>\n",
              "    </tr>\n",
              "    <tr>\n",
              "      <th>3</th>\n",
              "      <td>D4</td>\n",
              "      <td>Julia Roberts</td>\n",
              "      <td>20-03-1999</td>\n",
              "      <td>22</td>\n",
              "      <td>FEMALE</td>\n",
              "      <td>6323982373</td>\n",
              "    </tr>\n",
              "    <tr>\n",
              "      <th>4</th>\n",
              "      <td>D5</td>\n",
              "      <td>Divya Ghorui</td>\n",
              "      <td>26-06-2000</td>\n",
              "      <td>20</td>\n",
              "      <td>FEMALE</td>\n",
              "      <td>982982373</td>\n",
              "    </tr>\n",
              "    <tr>\n",
              "      <th>5</th>\n",
              "      <td>D6</td>\n",
              "      <td>Akshay Kumar</td>\n",
              "      <td>12-12-1995</td>\n",
              "      <td>25</td>\n",
              "      <td>MALE</td>\n",
              "      <td>5873982373</td>\n",
              "    </tr>\n",
              "    <tr>\n",
              "      <th>6</th>\n",
              "      <td>D7</td>\n",
              "      <td>Royston Dmello</td>\n",
              "      <td>26-01-2000</td>\n",
              "      <td>21</td>\n",
              "      <td>MALE</td>\n",
              "      <td>7236812648</td>\n",
              "    </tr>\n",
              "    <tr>\n",
              "      <th>7</th>\n",
              "      <td>D8</td>\n",
              "      <td>Katy Perry</td>\n",
              "      <td>16-10-1993</td>\n",
              "      <td>27</td>\n",
              "      <td>FEMALE</td>\n",
              "      <td>2873982373</td>\n",
              "    </tr>\n",
              "    <tr>\n",
              "      <th>8</th>\n",
              "      <td>D9</td>\n",
              "      <td>Akshay Kumar</td>\n",
              "      <td>12-12-1995</td>\n",
              "      <td>25</td>\n",
              "      <td>MALE</td>\n",
              "      <td>9873982373</td>\n",
              "    </tr>\n",
              "    <tr>\n",
              "      <th>9</th>\n",
              "      <td>D10</td>\n",
              "      <td>Harpreet Singh</td>\n",
              "      <td>24-04-1990</td>\n",
              "      <td>30</td>\n",
              "      <td>MALE</td>\n",
              "      <td>7673982373</td>\n",
              "    </tr>\n",
              "  </tbody>\n",
              "</table>\n",
              "</div>"
            ],
            "text/plain": [
              "  Donor_id      donor_name         DOB  age  Gender  Donor_ph_no\n",
              "0       D1  Royston Dmello  26-01-2000   21    MALE   7236812648\n",
              "1       D2    Nishank Dave  27-02-2000   21    MALE   8936938648\n",
              "2       D3     Manan Dodia  20-02-2000   21    MALE   2829982373\n",
              "3       D4   Julia Roberts  20-03-1999   22  FEMALE   6323982373\n",
              "4       D5    Divya Ghorui  26-06-2000   20  FEMALE    982982373\n",
              "5       D6    Akshay Kumar  12-12-1995   25    MALE   5873982373\n",
              "6       D7  Royston Dmello  26-01-2000   21    MALE   7236812648\n",
              "7       D8      Katy Perry  16-10-1993   27  FEMALE   2873982373\n",
              "8       D9    Akshay Kumar  12-12-1995   25    MALE   9873982373\n",
              "9      D10  Harpreet Singh  24-04-1990   30    MALE   7673982373"
            ]
          },
          "metadata": {
            "tags": []
          },
          "execution_count": 3
        }
      ]
    },
    {
      "cell_type": "code",
      "metadata": {
        "colab": {
          "base_uri": "https://localhost:8080/",
          "height": 343
        },
        "id": "s0EaoZDdWvtL",
        "outputId": "16c506ab-4214-4882-eca1-c1c1425e52bb"
      },
      "source": [
        "d2 = '''\n",
        "SELECT * \n",
        "FROM   employee\n",
        "'''\n",
        "table = pd.read_sql_query(d2, conn_bloodbank)\n",
        "table"
      ],
      "execution_count": null,
      "outputs": [
        {
          "output_type": "execute_result",
          "data": {
            "text/html": [
              "<div>\n",
              "<style scoped>\n",
              "    .dataframe tbody tr th:only-of-type {\n",
              "        vertical-align: middle;\n",
              "    }\n",
              "\n",
              "    .dataframe tbody tr th {\n",
              "        vertical-align: top;\n",
              "    }\n",
              "\n",
              "    .dataframe thead th {\n",
              "        text-align: right;\n",
              "    }\n",
              "</style>\n",
              "<table border=\"1\" class=\"dataframe\">\n",
              "  <thead>\n",
              "    <tr style=\"text-align: right;\">\n",
              "      <th></th>\n",
              "      <th>Emp_id</th>\n",
              "      <th>Emp_name</th>\n",
              "      <th>Emp_type</th>\n",
              "      <th>Supervisor_id</th>\n",
              "      <th>Emp_ph</th>\n",
              "    </tr>\n",
              "  </thead>\n",
              "  <tbody>\n",
              "    <tr>\n",
              "      <th>0</th>\n",
              "      <td>E1</td>\n",
              "      <td>Ankit Rathod</td>\n",
              "      <td>Storage Worker</td>\n",
              "      <td>E1</td>\n",
              "      <td>9856321456</td>\n",
              "    </tr>\n",
              "    <tr>\n",
              "      <th>1</th>\n",
              "      <td>E2</td>\n",
              "      <td>Neel Das</td>\n",
              "      <td>Receptionist</td>\n",
              "      <td>E2</td>\n",
              "      <td>9878214578</td>\n",
              "    </tr>\n",
              "    <tr>\n",
              "      <th>2</th>\n",
              "      <td>E3</td>\n",
              "      <td>Neelam Joshi</td>\n",
              "      <td>Nurse</td>\n",
              "      <td>E5</td>\n",
              "      <td>9832451677</td>\n",
              "    </tr>\n",
              "    <tr>\n",
              "      <th>3</th>\n",
              "      <td>E4</td>\n",
              "      <td>Tanmay Khan</td>\n",
              "      <td>Accountant</td>\n",
              "      <td>E7</td>\n",
              "      <td>9300225599</td>\n",
              "    </tr>\n",
              "    <tr>\n",
              "      <th>4</th>\n",
              "      <td>E5</td>\n",
              "      <td>Megan Anthony</td>\n",
              "      <td>Nurse</td>\n",
              "      <td>E5</td>\n",
              "      <td>9232317281</td>\n",
              "    </tr>\n",
              "    <tr>\n",
              "      <th>5</th>\n",
              "      <td>E6</td>\n",
              "      <td>Ram Singh</td>\n",
              "      <td>Storage Worker</td>\n",
              "      <td>E1</td>\n",
              "      <td>7895246351</td>\n",
              "    </tr>\n",
              "    <tr>\n",
              "      <th>6</th>\n",
              "      <td>E7</td>\n",
              "      <td>Priya Gover</td>\n",
              "      <td>Accountant</td>\n",
              "      <td>E7</td>\n",
              "      <td>8800597621</td>\n",
              "    </tr>\n",
              "    <tr>\n",
              "      <th>7</th>\n",
              "      <td>E8</td>\n",
              "      <td>Rashi Patil</td>\n",
              "      <td>Receptionist</td>\n",
              "      <td>E2</td>\n",
              "      <td>6589123753</td>\n",
              "    </tr>\n",
              "    <tr>\n",
              "      <th>8</th>\n",
              "      <td>E9</td>\n",
              "      <td>Narendra Gupta</td>\n",
              "      <td>Storage Worker</td>\n",
              "      <td>E1</td>\n",
              "      <td>6958472315</td>\n",
              "    </tr>\n",
              "    <tr>\n",
              "      <th>9</th>\n",
              "      <td>E10</td>\n",
              "      <td>Yash Bane</td>\n",
              "      <td>Nurse</td>\n",
              "      <td>E5</td>\n",
              "      <td>9865324544</td>\n",
              "    </tr>\n",
              "  </tbody>\n",
              "</table>\n",
              "</div>"
            ],
            "text/plain": [
              "  Emp_id        Emp_name        Emp_type Supervisor_id      Emp_ph\n",
              "0     E1    Ankit Rathod  Storage Worker            E1  9856321456\n",
              "1     E2        Neel Das    Receptionist            E2  9878214578\n",
              "2     E3    Neelam Joshi           Nurse            E5  9832451677\n",
              "3     E4     Tanmay Khan      Accountant            E7  9300225599\n",
              "4     E5   Megan Anthony           Nurse            E5  9232317281\n",
              "5     E6       Ram Singh  Storage Worker            E1  7895246351\n",
              "6     E7     Priya Gover      Accountant            E7  8800597621\n",
              "7     E8     Rashi Patil    Receptionist            E2  6589123753\n",
              "8     E9  Narendra Gupta  Storage Worker            E1  6958472315\n",
              "9    E10       Yash Bane           Nurse            E5  9865324544"
            ]
          },
          "metadata": {
            "tags": []
          },
          "execution_count": 4
        }
      ]
    },
    {
      "cell_type": "code",
      "metadata": {
        "colab": {
          "base_uri": "https://localhost:8080/",
          "height": 343
        },
        "id": "xOlzis1KWvpQ",
        "outputId": "384f7e76-6821-4b7d-d023-7fb3ad251ef4"
      },
      "source": [
        "d3 = '''\n",
        "SELECT * \n",
        "FROM   patient\n",
        "'''\n",
        "table = pd.read_sql_query(d3, conn_bloodbank)\n",
        "table"
      ],
      "execution_count": null,
      "outputs": [
        {
          "output_type": "execute_result",
          "data": {
            "text/html": [
              "<div>\n",
              "<style scoped>\n",
              "    .dataframe tbody tr th:only-of-type {\n",
              "        vertical-align: middle;\n",
              "    }\n",
              "\n",
              "    .dataframe tbody tr th {\n",
              "        vertical-align: top;\n",
              "    }\n",
              "\n",
              "    .dataframe thead th {\n",
              "        text-align: right;\n",
              "    }\n",
              "</style>\n",
              "<table border=\"1\" class=\"dataframe\">\n",
              "  <thead>\n",
              "    <tr style=\"text-align: right;\">\n",
              "      <th></th>\n",
              "      <th>patient_id</th>\n",
              "      <th>emp_id</th>\n",
              "      <th>patient_name</th>\n",
              "      <th>Age</th>\n",
              "      <th>Hospital_id</th>\n",
              "      <th>Patient_ph_no</th>\n",
              "    </tr>\n",
              "  </thead>\n",
              "  <tbody>\n",
              "    <tr>\n",
              "      <th>0</th>\n",
              "      <td>P1</td>\n",
              "      <td>E3</td>\n",
              "      <td>Gunjan Saxena</td>\n",
              "      <td>65</td>\n",
              "      <td>H1</td>\n",
              "      <td>3278328371</td>\n",
              "    </tr>\n",
              "    <tr>\n",
              "      <th>1</th>\n",
              "      <td>P2</td>\n",
              "      <td>E5</td>\n",
              "      <td>Minakshi Singh</td>\n",
              "      <td>45</td>\n",
              "      <td>H2</td>\n",
              "      <td>18927328371</td>\n",
              "    </tr>\n",
              "    <tr>\n",
              "      <th>2</th>\n",
              "      <td>P3</td>\n",
              "      <td>E3</td>\n",
              "      <td>Gunjan Saxena</td>\n",
              "      <td>65</td>\n",
              "      <td>H1</td>\n",
              "      <td>3278328371</td>\n",
              "    </tr>\n",
              "    <tr>\n",
              "      <th>3</th>\n",
              "      <td>P4</td>\n",
              "      <td>E5</td>\n",
              "      <td>Pratap Singh</td>\n",
              "      <td>16</td>\n",
              "      <td>H3</td>\n",
              "      <td>2388328371</td>\n",
              "    </tr>\n",
              "    <tr>\n",
              "      <th>4</th>\n",
              "      <td>P5</td>\n",
              "      <td>E10</td>\n",
              "      <td>Jinal Mehta</td>\n",
              "      <td>50</td>\n",
              "      <td>H3</td>\n",
              "      <td>21797328371</td>\n",
              "    </tr>\n",
              "    <tr>\n",
              "      <th>5</th>\n",
              "      <td>P6</td>\n",
              "      <td>E3</td>\n",
              "      <td>Amit Patel</td>\n",
              "      <td>36</td>\n",
              "      <td>H1</td>\n",
              "      <td>3278339872</td>\n",
              "    </tr>\n",
              "    <tr>\n",
              "      <th>6</th>\n",
              "      <td>P7</td>\n",
              "      <td>E10</td>\n",
              "      <td>Kaal Rathod</td>\n",
              "      <td>60</td>\n",
              "      <td>H4</td>\n",
              "      <td>2183761283</td>\n",
              "    </tr>\n",
              "    <tr>\n",
              "      <th>7</th>\n",
              "      <td>P8</td>\n",
              "      <td>E3</td>\n",
              "      <td>Naseer Shah</td>\n",
              "      <td>75</td>\n",
              "      <td>H2</td>\n",
              "      <td>3987329923</td>\n",
              "    </tr>\n",
              "    <tr>\n",
              "      <th>8</th>\n",
              "      <td>P9</td>\n",
              "      <td>E10</td>\n",
              "      <td>Jinal Mehta</td>\n",
              "      <td>50</td>\n",
              "      <td>H3</td>\n",
              "      <td>21797328371</td>\n",
              "    </tr>\n",
              "    <tr>\n",
              "      <th>9</th>\n",
              "      <td>P10</td>\n",
              "      <td>E5</td>\n",
              "      <td>Varun Dhawan</td>\n",
              "      <td>30</td>\n",
              "      <td>H1</td>\n",
              "      <td>8922830921</td>\n",
              "    </tr>\n",
              "  </tbody>\n",
              "</table>\n",
              "</div>"
            ],
            "text/plain": [
              "  patient_id emp_id    patient_name  Age Hospital_id  Patient_ph_no\n",
              "0         P1     E3   Gunjan Saxena   65          H1     3278328371\n",
              "1         P2     E5  Minakshi Singh   45          H2    18927328371\n",
              "2         P3     E3   Gunjan Saxena   65          H1     3278328371\n",
              "3         P4     E5    Pratap Singh   16          H3     2388328371\n",
              "4         P5    E10     Jinal Mehta   50          H3    21797328371\n",
              "5         P6     E3      Amit Patel   36          H1     3278339872\n",
              "6         P7    E10     Kaal Rathod   60          H4     2183761283\n",
              "7         P8     E3     Naseer Shah   75          H2     3987329923\n",
              "8         P9    E10     Jinal Mehta   50          H3    21797328371\n",
              "9        P10     E5    Varun Dhawan   30          H1     8922830921"
            ]
          },
          "metadata": {
            "tags": []
          },
          "execution_count": 5
        }
      ]
    },
    {
      "cell_type": "code",
      "metadata": {
        "colab": {
          "base_uri": "https://localhost:8080/",
          "height": 343
        },
        "id": "blOax2IPWvlY",
        "outputId": "0ca96849-36e4-4e9d-8438-cf2456af7302"
      },
      "source": [
        "d4 = '''\n",
        "SELECT * \n",
        "FROM   blood\n",
        "'''\n",
        "table = pd.read_sql_query(d4, conn_bloodbank)\n",
        "table"
      ],
      "execution_count": null,
      "outputs": [
        {
          "output_type": "execute_result",
          "data": {
            "text/html": [
              "<div>\n",
              "<style scoped>\n",
              "    .dataframe tbody tr th:only-of-type {\n",
              "        vertical-align: middle;\n",
              "    }\n",
              "\n",
              "    .dataframe tbody tr th {\n",
              "        vertical-align: top;\n",
              "    }\n",
              "\n",
              "    .dataframe thead th {\n",
              "        text-align: right;\n",
              "    }\n",
              "</style>\n",
              "<table border=\"1\" class=\"dataframe\">\n",
              "  <thead>\n",
              "    <tr style=\"text-align: right;\">\n",
              "      <th></th>\n",
              "      <th>Blood_id</th>\n",
              "      <th>Blood_Group</th>\n",
              "      <th>Donor_id</th>\n",
              "      <th>patient_id</th>\n",
              "      <th>emp_id</th>\n",
              "    </tr>\n",
              "  </thead>\n",
              "  <tbody>\n",
              "    <tr>\n",
              "      <th>0</th>\n",
              "      <td>1</td>\n",
              "      <td>A+</td>\n",
              "      <td>D6</td>\n",
              "      <td>P2</td>\n",
              "      <td>E3</td>\n",
              "    </tr>\n",
              "    <tr>\n",
              "      <th>1</th>\n",
              "      <td>2</td>\n",
              "      <td>A+</td>\n",
              "      <td>D4</td>\n",
              "      <td>P8</td>\n",
              "      <td>E5</td>\n",
              "    </tr>\n",
              "    <tr>\n",
              "      <th>2</th>\n",
              "      <td>3</td>\n",
              "      <td>B-</td>\n",
              "      <td>D2</td>\n",
              "      <td>P5</td>\n",
              "      <td>E5</td>\n",
              "    </tr>\n",
              "    <tr>\n",
              "      <th>3</th>\n",
              "      <td>4</td>\n",
              "      <td>A+</td>\n",
              "      <td>D9</td>\n",
              "      <td>P4</td>\n",
              "      <td>E10</td>\n",
              "    </tr>\n",
              "    <tr>\n",
              "      <th>4</th>\n",
              "      <td>5</td>\n",
              "      <td>A+</td>\n",
              "      <td>D3</td>\n",
              "      <td>P6</td>\n",
              "      <td>E3</td>\n",
              "    </tr>\n",
              "    <tr>\n",
              "      <th>5</th>\n",
              "      <td>6</td>\n",
              "      <td>O+</td>\n",
              "      <td>D1</td>\n",
              "      <td>P1</td>\n",
              "      <td>E10</td>\n",
              "    </tr>\n",
              "    <tr>\n",
              "      <th>6</th>\n",
              "      <td>7</td>\n",
              "      <td>AB+</td>\n",
              "      <td>D10</td>\n",
              "      <td>P7</td>\n",
              "      <td>E3</td>\n",
              "    </tr>\n",
              "    <tr>\n",
              "      <th>7</th>\n",
              "      <td>8</td>\n",
              "      <td>B+</td>\n",
              "      <td>D8</td>\n",
              "      <td>P9</td>\n",
              "      <td>E5</td>\n",
              "    </tr>\n",
              "    <tr>\n",
              "      <th>8</th>\n",
              "      <td>9</td>\n",
              "      <td>A-</td>\n",
              "      <td>D5</td>\n",
              "      <td>NULL</td>\n",
              "      <td>E6</td>\n",
              "    </tr>\n",
              "    <tr>\n",
              "      <th>9</th>\n",
              "      <td>10</td>\n",
              "      <td>O+</td>\n",
              "      <td>D7</td>\n",
              "      <td>P3</td>\n",
              "      <td>E3</td>\n",
              "    </tr>\n",
              "  </tbody>\n",
              "</table>\n",
              "</div>"
            ],
            "text/plain": [
              "   Blood_id Blood_Group Donor_id patient_id emp_id\n",
              "0         1          A+       D6         P2     E3\n",
              "1         2          A+       D4         P8     E5\n",
              "2         3          B-       D2         P5     E5\n",
              "3         4          A+       D9         P4    E10\n",
              "4         5          A+       D3         P6     E3\n",
              "5         6          O+       D1         P1    E10\n",
              "6         7         AB+      D10         P7     E3\n",
              "7         8          B+       D8         P9     E5\n",
              "8         9          A-       D5       NULL     E6\n",
              "9        10          O+       D7         P3     E3"
            ]
          },
          "metadata": {
            "tags": []
          },
          "execution_count": 6
        }
      ]
    },
    {
      "cell_type": "code",
      "metadata": {
        "colab": {
          "base_uri": "https://localhost:8080/",
          "height": 343
        },
        "id": "v2zPHi4UWvhL",
        "outputId": "f3769bcc-5a71-4a15-949b-de6000a48edf"
      },
      "source": [
        "d5 = '''\n",
        "SELECT * \n",
        "FROM   collects_from\n",
        "'''\n",
        "table = pd.read_sql_query(d5, conn_bloodbank)\n",
        "table"
      ],
      "execution_count": null,
      "outputs": [
        {
          "output_type": "execute_result",
          "data": {
            "text/html": [
              "<div>\n",
              "<style scoped>\n",
              "    .dataframe tbody tr th:only-of-type {\n",
              "        vertical-align: middle;\n",
              "    }\n",
              "\n",
              "    .dataframe tbody tr th {\n",
              "        vertical-align: top;\n",
              "    }\n",
              "\n",
              "    .dataframe thead th {\n",
              "        text-align: right;\n",
              "    }\n",
              "</style>\n",
              "<table border=\"1\" class=\"dataframe\">\n",
              "  <thead>\n",
              "    <tr style=\"text-align: right;\">\n",
              "      <th></th>\n",
              "      <th>Emp_id</th>\n",
              "      <th>Donor_id</th>\n",
              "    </tr>\n",
              "  </thead>\n",
              "  <tbody>\n",
              "    <tr>\n",
              "      <th>0</th>\n",
              "      <td>E3</td>\n",
              "      <td>D6</td>\n",
              "    </tr>\n",
              "    <tr>\n",
              "      <th>1</th>\n",
              "      <td>E3</td>\n",
              "      <td>D5</td>\n",
              "    </tr>\n",
              "    <tr>\n",
              "      <th>2</th>\n",
              "      <td>E10</td>\n",
              "      <td>D4</td>\n",
              "    </tr>\n",
              "    <tr>\n",
              "      <th>3</th>\n",
              "      <td>E3</td>\n",
              "      <td>D10</td>\n",
              "    </tr>\n",
              "    <tr>\n",
              "      <th>4</th>\n",
              "      <td>E5</td>\n",
              "      <td>D9</td>\n",
              "    </tr>\n",
              "    <tr>\n",
              "      <th>5</th>\n",
              "      <td>E5</td>\n",
              "      <td>D7</td>\n",
              "    </tr>\n",
              "    <tr>\n",
              "      <th>6</th>\n",
              "      <td>E3</td>\n",
              "      <td>D1</td>\n",
              "    </tr>\n",
              "    <tr>\n",
              "      <th>7</th>\n",
              "      <td>E5</td>\n",
              "      <td>D3</td>\n",
              "    </tr>\n",
              "    <tr>\n",
              "      <th>8</th>\n",
              "      <td>E10</td>\n",
              "      <td>D8</td>\n",
              "    </tr>\n",
              "    <tr>\n",
              "      <th>9</th>\n",
              "      <td>E1</td>\n",
              "      <td>D2</td>\n",
              "    </tr>\n",
              "  </tbody>\n",
              "</table>\n",
              "</div>"
            ],
            "text/plain": [
              "  Emp_id Donor_id\n",
              "0     E3       D6\n",
              "1     E3       D5\n",
              "2    E10       D4\n",
              "3     E3      D10\n",
              "4     E5       D9\n",
              "5     E5       D7\n",
              "6     E3       D1\n",
              "7     E5       D3\n",
              "8    E10       D8\n",
              "9     E1       D2"
            ]
          },
          "metadata": {
            "tags": []
          },
          "execution_count": 7
        }
      ]
    },
    {
      "cell_type": "markdown",
      "metadata": {
        "id": "h2ANHUq-uF5D"
      },
      "source": [
        "Q1. Display the number of patients whose age is greater than equal to 60."
      ]
    },
    {
      "cell_type": "code",
      "metadata": {
        "colab": {
          "base_uri": "https://localhost:8080/",
          "height": 173
        },
        "id": "SvIVKj15uEJ7",
        "outputId": "717a41a7-4a8e-4bb4-8446-1482e70139d4"
      },
      "source": [
        "q1 = '''\n",
        "SELECT * \n",
        "FROM   patient\n",
        "where age >= 60\n",
        "'''\n",
        "table = pd.read_sql_query(q1, conn_bloodbank)\n",
        "table"
      ],
      "execution_count": null,
      "outputs": [
        {
          "output_type": "execute_result",
          "data": {
            "text/html": [
              "<div>\n",
              "<style scoped>\n",
              "    .dataframe tbody tr th:only-of-type {\n",
              "        vertical-align: middle;\n",
              "    }\n",
              "\n",
              "    .dataframe tbody tr th {\n",
              "        vertical-align: top;\n",
              "    }\n",
              "\n",
              "    .dataframe thead th {\n",
              "        text-align: right;\n",
              "    }\n",
              "</style>\n",
              "<table border=\"1\" class=\"dataframe\">\n",
              "  <thead>\n",
              "    <tr style=\"text-align: right;\">\n",
              "      <th></th>\n",
              "      <th>patient_id</th>\n",
              "      <th>emp_id</th>\n",
              "      <th>patient_name</th>\n",
              "      <th>Age</th>\n",
              "      <th>Hospital_id</th>\n",
              "      <th>Patient_ph_no</th>\n",
              "    </tr>\n",
              "  </thead>\n",
              "  <tbody>\n",
              "    <tr>\n",
              "      <th>0</th>\n",
              "      <td>P1</td>\n",
              "      <td>E3</td>\n",
              "      <td>Gunjan Saxena</td>\n",
              "      <td>65</td>\n",
              "      <td>H1</td>\n",
              "      <td>3278328371</td>\n",
              "    </tr>\n",
              "    <tr>\n",
              "      <th>1</th>\n",
              "      <td>P3</td>\n",
              "      <td>E3</td>\n",
              "      <td>Gunjan Saxena</td>\n",
              "      <td>65</td>\n",
              "      <td>H1</td>\n",
              "      <td>3278328371</td>\n",
              "    </tr>\n",
              "    <tr>\n",
              "      <th>2</th>\n",
              "      <td>P7</td>\n",
              "      <td>E10</td>\n",
              "      <td>Kaal Rathod</td>\n",
              "      <td>60</td>\n",
              "      <td>H4</td>\n",
              "      <td>2183761283</td>\n",
              "    </tr>\n",
              "    <tr>\n",
              "      <th>3</th>\n",
              "      <td>P8</td>\n",
              "      <td>E3</td>\n",
              "      <td>Naseer Shah</td>\n",
              "      <td>75</td>\n",
              "      <td>H2</td>\n",
              "      <td>3987329923</td>\n",
              "    </tr>\n",
              "  </tbody>\n",
              "</table>\n",
              "</div>"
            ],
            "text/plain": [
              "  patient_id emp_id   patient_name  Age Hospital_id  Patient_ph_no\n",
              "0         P1     E3  Gunjan Saxena   65          H1     3278328371\n",
              "1         P3     E3  Gunjan Saxena   65          H1     3278328371\n",
              "2         P7    E10    Kaal Rathod   60          H4     2183761283\n",
              "3         P8     E3    Naseer Shah   75          H2     3987329923"
            ]
          },
          "metadata": {
            "tags": []
          },
          "execution_count": 37
        }
      ]
    },
    {
      "cell_type": "markdown",
      "metadata": {
        "id": "Mdnq8DXFuVuK"
      },
      "source": [
        "Q2. Display hospital id where patients are admitted."
      ]
    },
    {
      "cell_type": "code",
      "metadata": {
        "colab": {
          "base_uri": "https://localhost:8080/",
          "height": 343
        },
        "id": "BRXu6OouuVUs",
        "outputId": "9460268b-d499-417b-f917-aee55d57805b"
      },
      "source": [
        "q2 = '''\n",
        "SELECT patient_name, hospital_id\n",
        "FROM   patient\n",
        "'''\n",
        "table = pd.read_sql_query(q2, conn_bloodbank)\n",
        "table"
      ],
      "execution_count": null,
      "outputs": [
        {
          "output_type": "execute_result",
          "data": {
            "text/html": [
              "<div>\n",
              "<style scoped>\n",
              "    .dataframe tbody tr th:only-of-type {\n",
              "        vertical-align: middle;\n",
              "    }\n",
              "\n",
              "    .dataframe tbody tr th {\n",
              "        vertical-align: top;\n",
              "    }\n",
              "\n",
              "    .dataframe thead th {\n",
              "        text-align: right;\n",
              "    }\n",
              "</style>\n",
              "<table border=\"1\" class=\"dataframe\">\n",
              "  <thead>\n",
              "    <tr style=\"text-align: right;\">\n",
              "      <th></th>\n",
              "      <th>patient_name</th>\n",
              "      <th>Hospital_id</th>\n",
              "    </tr>\n",
              "  </thead>\n",
              "  <tbody>\n",
              "    <tr>\n",
              "      <th>0</th>\n",
              "      <td>Gunjan Saxena</td>\n",
              "      <td>H1</td>\n",
              "    </tr>\n",
              "    <tr>\n",
              "      <th>1</th>\n",
              "      <td>Minakshi Singh</td>\n",
              "      <td>H2</td>\n",
              "    </tr>\n",
              "    <tr>\n",
              "      <th>2</th>\n",
              "      <td>Gunjan Saxena</td>\n",
              "      <td>H1</td>\n",
              "    </tr>\n",
              "    <tr>\n",
              "      <th>3</th>\n",
              "      <td>Pratap Singh</td>\n",
              "      <td>H3</td>\n",
              "    </tr>\n",
              "    <tr>\n",
              "      <th>4</th>\n",
              "      <td>Jinal Mehta</td>\n",
              "      <td>H3</td>\n",
              "    </tr>\n",
              "    <tr>\n",
              "      <th>5</th>\n",
              "      <td>Amit Patel</td>\n",
              "      <td>H1</td>\n",
              "    </tr>\n",
              "    <tr>\n",
              "      <th>6</th>\n",
              "      <td>Kaal Rathod</td>\n",
              "      <td>H4</td>\n",
              "    </tr>\n",
              "    <tr>\n",
              "      <th>7</th>\n",
              "      <td>Naseer Shah</td>\n",
              "      <td>H2</td>\n",
              "    </tr>\n",
              "    <tr>\n",
              "      <th>8</th>\n",
              "      <td>Jinal Mehta</td>\n",
              "      <td>H3</td>\n",
              "    </tr>\n",
              "    <tr>\n",
              "      <th>9</th>\n",
              "      <td>Varun Dhawan</td>\n",
              "      <td>H1</td>\n",
              "    </tr>\n",
              "  </tbody>\n",
              "</table>\n",
              "</div>"
            ],
            "text/plain": [
              "     patient_name Hospital_id\n",
              "0   Gunjan Saxena          H1\n",
              "1  Minakshi Singh          H2\n",
              "2   Gunjan Saxena          H1\n",
              "3    Pratap Singh          H3\n",
              "4     Jinal Mehta          H3\n",
              "5      Amit Patel          H1\n",
              "6     Kaal Rathod          H4\n",
              "7     Naseer Shah          H2\n",
              "8     Jinal Mehta          H3\n",
              "9    Varun Dhawan          H1"
            ]
          },
          "metadata": {
            "tags": []
          },
          "execution_count": 3
        }
      ]
    },
    {
      "cell_type": "markdown",
      "metadata": {
        "id": "bgce-6geudFM"
      },
      "source": [
        "Q3. Display the patient name who all have received blood packets and how many each."
      ]
    },
    {
      "cell_type": "code",
      "metadata": {
        "colab": {
          "base_uri": "https://localhost:8080/",
          "height": 328
        },
        "id": "s_qJ8WYyudbe",
        "outputId": "8b39f473-8035-4bd3-ca6d-d179c4ffb6ad"
      },
      "source": [
        "q3 = '''\n",
        "SELECT patient_name\n",
        "FROM  patient as P,blood as B, Donor as D\n",
        "where D.donor_id = B.donor_id\n",
        "and P.patient_id = B.patient_id\n",
        "'''\n",
        "table = pd.read_sql_query(q3, conn_bloodbank)\n",
        "table  "
      ],
      "execution_count": null,
      "outputs": [
        {
          "output_type": "execute_result",
          "data": {
            "text/html": [
              "<div>\n",
              "<style scoped>\n",
              "    .dataframe tbody tr th:only-of-type {\n",
              "        vertical-align: middle;\n",
              "    }\n",
              "\n",
              "    .dataframe tbody tr th {\n",
              "        vertical-align: top;\n",
              "    }\n",
              "\n",
              "    .dataframe thead th {\n",
              "        text-align: right;\n",
              "    }\n",
              "</style>\n",
              "<table border=\"1\" class=\"dataframe\">\n",
              "  <thead>\n",
              "    <tr style=\"text-align: right;\">\n",
              "      <th></th>\n",
              "      <th>patient_name</th>\n",
              "    </tr>\n",
              "  </thead>\n",
              "  <tbody>\n",
              "    <tr>\n",
              "      <th>0</th>\n",
              "      <td>Minakshi Singh</td>\n",
              "    </tr>\n",
              "    <tr>\n",
              "      <th>1</th>\n",
              "      <td>Naseer Shah</td>\n",
              "    </tr>\n",
              "    <tr>\n",
              "      <th>2</th>\n",
              "      <td>Jinal Mehta</td>\n",
              "    </tr>\n",
              "    <tr>\n",
              "      <th>3</th>\n",
              "      <td>Pratap Singh</td>\n",
              "    </tr>\n",
              "    <tr>\n",
              "      <th>4</th>\n",
              "      <td>Amit Patel</td>\n",
              "    </tr>\n",
              "    <tr>\n",
              "      <th>5</th>\n",
              "      <td>Gunjan Saxena</td>\n",
              "    </tr>\n",
              "    <tr>\n",
              "      <th>6</th>\n",
              "      <td>Kaal Rathod</td>\n",
              "    </tr>\n",
              "    <tr>\n",
              "      <th>7</th>\n",
              "      <td>Jinal Mehta</td>\n",
              "    </tr>\n",
              "    <tr>\n",
              "      <th>8</th>\n",
              "      <td>Gunjan Saxena</td>\n",
              "    </tr>\n",
              "  </tbody>\n",
              "</table>\n",
              "</div>"
            ],
            "text/plain": [
              "     patient_name\n",
              "0  Minakshi Singh\n",
              "1     Naseer Shah\n",
              "2     Jinal Mehta\n",
              "3    Pratap Singh\n",
              "4      Amit Patel\n",
              "5   Gunjan Saxena\n",
              "6     Kaal Rathod\n",
              "7     Jinal Mehta\n",
              "8   Gunjan Saxena"
            ]
          },
          "metadata": {
            "tags": []
          },
          "execution_count": 39
        }
      ]
    },
    {
      "cell_type": "markdown",
      "metadata": {
        "id": "jafmqnqVuviV"
      },
      "source": [
        "Q4. How many packets of blood are available in storage?"
      ]
    },
    {
      "cell_type": "code",
      "metadata": {
        "colab": {
          "base_uri": "https://localhost:8080/",
          "height": 80
        },
        "id": "Yhs6O222uwHs",
        "outputId": "ca7300b8-1f45-49d6-ae6f-ed92db1d86f6"
      },
      "source": [
        "q4='''\n",
        "SELECT *\n",
        "FROM blood\n",
        "WHERE patient_id=\"NULL\"\n",
        "'''\n",
        "table = pd.read_sql_query(q4, conn_bloodbank)\n",
        "table"
      ],
      "execution_count": null,
      "outputs": [
        {
          "output_type": "execute_result",
          "data": {
            "text/html": [
              "<div>\n",
              "<style scoped>\n",
              "    .dataframe tbody tr th:only-of-type {\n",
              "        vertical-align: middle;\n",
              "    }\n",
              "\n",
              "    .dataframe tbody tr th {\n",
              "        vertical-align: top;\n",
              "    }\n",
              "\n",
              "    .dataframe thead th {\n",
              "        text-align: right;\n",
              "    }\n",
              "</style>\n",
              "<table border=\"1\" class=\"dataframe\">\n",
              "  <thead>\n",
              "    <tr style=\"text-align: right;\">\n",
              "      <th></th>\n",
              "      <th>Blood_id</th>\n",
              "      <th>Blood_Group</th>\n",
              "      <th>Donor_id</th>\n",
              "      <th>patient_id</th>\n",
              "      <th>emp_id</th>\n",
              "    </tr>\n",
              "  </thead>\n",
              "  <tbody>\n",
              "    <tr>\n",
              "      <th>0</th>\n",
              "      <td>9</td>\n",
              "      <td>A-</td>\n",
              "      <td>D5</td>\n",
              "      <td>NULL</td>\n",
              "      <td>E6</td>\n",
              "    </tr>\n",
              "  </tbody>\n",
              "</table>\n",
              "</div>"
            ],
            "text/plain": [
              "   Blood_id Blood_Group Donor_id patient_id emp_id\n",
              "0         9          A-       D5       NULL     E6"
            ]
          },
          "metadata": {
            "tags": []
          },
          "execution_count": 40
        }
      ]
    },
    {
      "cell_type": "markdown",
      "metadata": {
        "id": "-dOAUDk4vOaw"
      },
      "source": [
        "Q5. Display the name of the donor who has donated blood more than once"
      ]
    },
    {
      "cell_type": "code",
      "metadata": {
        "colab": {
          "base_uri": "https://localhost:8080/",
          "height": 111
        },
        "id": "4O77Jct4vOys",
        "outputId": "c5fdee8b-3a01-4235-d60e-bf18451fddb9"
      },
      "source": [
        "q5='''\n",
        "SELECT count(donor_name),donor_name\n",
        "FROM donor\n",
        "group by donor_name\n",
        "having count(donor_name)>1\n",
        "'''\n",
        "table = pd.read_sql_query(q5, conn_bloodbank)\n",
        "table"
      ],
      "execution_count": null,
      "outputs": [
        {
          "output_type": "execute_result",
          "data": {
            "text/html": [
              "<div>\n",
              "<style scoped>\n",
              "    .dataframe tbody tr th:only-of-type {\n",
              "        vertical-align: middle;\n",
              "    }\n",
              "\n",
              "    .dataframe tbody tr th {\n",
              "        vertical-align: top;\n",
              "    }\n",
              "\n",
              "    .dataframe thead th {\n",
              "        text-align: right;\n",
              "    }\n",
              "</style>\n",
              "<table border=\"1\" class=\"dataframe\">\n",
              "  <thead>\n",
              "    <tr style=\"text-align: right;\">\n",
              "      <th></th>\n",
              "      <th>count(donor_name)</th>\n",
              "      <th>donor_name</th>\n",
              "    </tr>\n",
              "  </thead>\n",
              "  <tbody>\n",
              "    <tr>\n",
              "      <th>0</th>\n",
              "      <td>2</td>\n",
              "      <td>Akshay Kumar</td>\n",
              "    </tr>\n",
              "    <tr>\n",
              "      <th>1</th>\n",
              "      <td>2</td>\n",
              "      <td>Royston Dmello</td>\n",
              "    </tr>\n",
              "  </tbody>\n",
              "</table>\n",
              "</div>"
            ],
            "text/plain": [
              "   count(donor_name)      donor_name\n",
              "0                  2    Akshay Kumar\n",
              "1                  2  Royston Dmello"
            ]
          },
          "metadata": {
            "tags": []
          },
          "execution_count": 41
        }
      ]
    },
    {
      "cell_type": "markdown",
      "metadata": {
        "id": "chI5Bn_svQ2g"
      },
      "source": [
        "Q6. Display the names of the nurses working in the blood bank.\n",
        "\n"
      ]
    },
    {
      "cell_type": "code",
      "metadata": {
        "colab": {
          "base_uri": "https://localhost:8080/",
          "height": 136
        },
        "id": "OpOpdVTMvRIb",
        "outputId": "4b20157e-f1b1-4144-a395-713e8e9db258"
      },
      "source": [
        "q6='''\n",
        "SELECT emp_id, emp_name, emp_type, emp_ph\n",
        "FROM employee\n",
        "WHERE emp_type LIKE 'Nur%'\n",
        "'''\n",
        "table = pd.read_sql_query(q6, conn_bloodbank)\n",
        "table"
      ],
      "execution_count": null,
      "outputs": [
        {
          "output_type": "execute_result",
          "data": {
            "text/html": [
              "<div>\n",
              "<style scoped>\n",
              "    .dataframe tbody tr th:only-of-type {\n",
              "        vertical-align: middle;\n",
              "    }\n",
              "\n",
              "    .dataframe tbody tr th {\n",
              "        vertical-align: top;\n",
              "    }\n",
              "\n",
              "    .dataframe thead th {\n",
              "        text-align: right;\n",
              "    }\n",
              "</style>\n",
              "<table border=\"1\" class=\"dataframe\">\n",
              "  <thead>\n",
              "    <tr style=\"text-align: right;\">\n",
              "      <th></th>\n",
              "      <th>Emp_id</th>\n",
              "      <th>Emp_name</th>\n",
              "      <th>Emp_type</th>\n",
              "      <th>Emp_ph</th>\n",
              "    </tr>\n",
              "  </thead>\n",
              "  <tbody>\n",
              "    <tr>\n",
              "      <th>0</th>\n",
              "      <td>E3</td>\n",
              "      <td>Neelam Joshi</td>\n",
              "      <td>Nurse</td>\n",
              "      <td>9832451677</td>\n",
              "    </tr>\n",
              "    <tr>\n",
              "      <th>1</th>\n",
              "      <td>E5</td>\n",
              "      <td>Megan Anthony</td>\n",
              "      <td>Nurse</td>\n",
              "      <td>9232317281</td>\n",
              "    </tr>\n",
              "    <tr>\n",
              "      <th>2</th>\n",
              "      <td>E10</td>\n",
              "      <td>Yash Bane</td>\n",
              "      <td>Nurse</td>\n",
              "      <td>9865324544</td>\n",
              "    </tr>\n",
              "  </tbody>\n",
              "</table>\n",
              "</div>"
            ],
            "text/plain": [
              "  Emp_id       Emp_name Emp_type      Emp_ph\n",
              "0     E3   Neelam Joshi    Nurse  9832451677\n",
              "1     E5  Megan Anthony    Nurse  9232317281\n",
              "2    E10      Yash Bane    Nurse  9865324544"
            ]
          },
          "metadata": {
            "tags": []
          },
          "execution_count": 3
        }
      ]
    },
    {
      "cell_type": "markdown",
      "metadata": {
        "id": "rNtRdfz8vTm9"
      },
      "source": [
        "Q7. Display the name's of the patient who have received A+ blood."
      ]
    },
    {
      "cell_type": "code",
      "metadata": {
        "colab": {
          "base_uri": "https://localhost:8080/",
          "height": 173
        },
        "id": "JXXcCJHSvUEK",
        "outputId": "93771726-59f4-41ff-ad25-e4a64da25c58"
      },
      "source": [
        "q7 = '''\n",
        "SELECT b.blood_group, b.patient_id, p.patient_name\n",
        "FROM blood as b , patient as p\n",
        "WHERE b.blood_group = \"A+\"\n",
        "AND b.patient_id = p.patient_id\n",
        "'''\n",
        "table = pd.read_sql_query(q7, conn_bloodbank)\n",
        "table"
      ],
      "execution_count": null,
      "outputs": [
        {
          "output_type": "execute_result",
          "data": {
            "text/html": [
              "<div>\n",
              "<style scoped>\n",
              "    .dataframe tbody tr th:only-of-type {\n",
              "        vertical-align: middle;\n",
              "    }\n",
              "\n",
              "    .dataframe tbody tr th {\n",
              "        vertical-align: top;\n",
              "    }\n",
              "\n",
              "    .dataframe thead th {\n",
              "        text-align: right;\n",
              "    }\n",
              "</style>\n",
              "<table border=\"1\" class=\"dataframe\">\n",
              "  <thead>\n",
              "    <tr style=\"text-align: right;\">\n",
              "      <th></th>\n",
              "      <th>Blood_Group</th>\n",
              "      <th>patient_id</th>\n",
              "      <th>patient_name</th>\n",
              "    </tr>\n",
              "  </thead>\n",
              "  <tbody>\n",
              "    <tr>\n",
              "      <th>0</th>\n",
              "      <td>A+</td>\n",
              "      <td>P2</td>\n",
              "      <td>Minakshi Singh</td>\n",
              "    </tr>\n",
              "    <tr>\n",
              "      <th>1</th>\n",
              "      <td>A+</td>\n",
              "      <td>P8</td>\n",
              "      <td>Naseer Shah</td>\n",
              "    </tr>\n",
              "    <tr>\n",
              "      <th>2</th>\n",
              "      <td>A+</td>\n",
              "      <td>P4</td>\n",
              "      <td>Pratap Singh</td>\n",
              "    </tr>\n",
              "    <tr>\n",
              "      <th>3</th>\n",
              "      <td>A+</td>\n",
              "      <td>P6</td>\n",
              "      <td>Amit Patel</td>\n",
              "    </tr>\n",
              "  </tbody>\n",
              "</table>\n",
              "</div>"
            ],
            "text/plain": [
              "  Blood_Group patient_id    patient_name\n",
              "0          A+         P2  Minakshi Singh\n",
              "1          A+         P8     Naseer Shah\n",
              "2          A+         P4    Pratap Singh\n",
              "3          A+         P6      Amit Patel"
            ]
          },
          "metadata": {
            "tags": []
          },
          "execution_count": 43
        }
      ]
    },
    {
      "cell_type": "markdown",
      "metadata": {
        "id": "np-ifIwDvjGh"
      },
      "source": [
        "Q8. Update the donor table wherein the phone number\n",
        "\n",
        " of \"Royston Dmello\" has changed.\n"
      ]
    },
    {
      "cell_type": "code",
      "metadata": {
        "colab": {
          "base_uri": "https://localhost:8080/"
        },
        "id": "zIKA_L6ZvjWg",
        "outputId": "2266a8af-f988-46c9-aa9a-491c1f61ced3"
      },
      "source": [
        " # Create a copy of donor table\n",
        "new_table_query = ''' \n",
        "create table donor_3 as select * from donor\n",
        "'''\n",
        "conn_bloodbank.execute(new_table_query)"
      ],
      "execution_count": null,
      "outputs": [
        {
          "output_type": "execute_result",
          "data": {
            "text/plain": [
              "<sqlite3.Cursor at 0x7f8f22e18ea0>"
            ]
          },
          "metadata": {
            "tags": []
          },
          "execution_count": 13
        }
      ]
    },
    {
      "cell_type": "code",
      "metadata": {
        "colab": {
          "base_uri": "https://localhost:8080/"
        },
        "id": "BWlUbOAyvvTT",
        "outputId": "95c3fec2-eaa0-4ac5-f003-e2a516706626"
      },
      "source": [
        "update_q8 = '''\n",
        "update donor_3\n",
        "set donor_ph_no = 9832005533\n",
        "where donor_name = \"Royston Dmello\"\n",
        "'''\n",
        "conn_bloodbank.execute(update_q8)"
      ],
      "execution_count": null,
      "outputs": [
        {
          "output_type": "execute_result",
          "data": {
            "text/plain": [
              "<sqlite3.Cursor at 0x7f968c90ab90>"
            ]
          },
          "metadata": {
            "tags": []
          },
          "execution_count": 45
        }
      ]
    },
    {
      "cell_type": "code",
      "metadata": {
        "colab": {
          "base_uri": "https://localhost:8080/",
          "height": 359
        },
        "id": "tzHk2nesv2KF",
        "outputId": "8aff300e-5967-4f34-aa30-7ee7d7673cbd"
      },
      "source": [
        "# Updated donor_3 table\n",
        "q9 = '''\n",
        "select *\n",
        "from donor_3\n",
        "'''\n",
        "table_donor_3 = pd.read_sql_query(q9, conn_bloodbank)\n",
        "table_donor_3"
      ],
      "execution_count": null,
      "outputs": [
        {
          "output_type": "execute_result",
          "data": {
            "text/html": [
              "<div>\n",
              "<style scoped>\n",
              "    .dataframe tbody tr th:only-of-type {\n",
              "        vertical-align: middle;\n",
              "    }\n",
              "\n",
              "    .dataframe tbody tr th {\n",
              "        vertical-align: top;\n",
              "    }\n",
              "\n",
              "    .dataframe thead th {\n",
              "        text-align: right;\n",
              "    }\n",
              "</style>\n",
              "<table border=\"1\" class=\"dataframe\">\n",
              "  <thead>\n",
              "    <tr style=\"text-align: right;\">\n",
              "      <th></th>\n",
              "      <th>Donor_id</th>\n",
              "      <th>donor_name</th>\n",
              "      <th>DOB</th>\n",
              "      <th>age</th>\n",
              "      <th>Gender</th>\n",
              "      <th>Donor_ph_no</th>\n",
              "    </tr>\n",
              "  </thead>\n",
              "  <tbody>\n",
              "    <tr>\n",
              "      <th>0</th>\n",
              "      <td>D1</td>\n",
              "      <td>Royston Dmello</td>\n",
              "      <td>26-01-2000</td>\n",
              "      <td>21</td>\n",
              "      <td>MALE</td>\n",
              "      <td>9832005533</td>\n",
              "    </tr>\n",
              "    <tr>\n",
              "      <th>1</th>\n",
              "      <td>D2</td>\n",
              "      <td>Nishank Dave</td>\n",
              "      <td>27-02-2000</td>\n",
              "      <td>21</td>\n",
              "      <td>MALE</td>\n",
              "      <td>8936938648</td>\n",
              "    </tr>\n",
              "    <tr>\n",
              "      <th>2</th>\n",
              "      <td>D3</td>\n",
              "      <td>Manan Dodia</td>\n",
              "      <td>20-02-2000</td>\n",
              "      <td>21</td>\n",
              "      <td>MALE</td>\n",
              "      <td>2829982373</td>\n",
              "    </tr>\n",
              "    <tr>\n",
              "      <th>3</th>\n",
              "      <td>D4</td>\n",
              "      <td>Julia Roberts</td>\n",
              "      <td>20-03-1999</td>\n",
              "      <td>22</td>\n",
              "      <td>FEMALE</td>\n",
              "      <td>6323982373</td>\n",
              "    </tr>\n",
              "    <tr>\n",
              "      <th>4</th>\n",
              "      <td>D5</td>\n",
              "      <td>Divya Ghorui</td>\n",
              "      <td>26-06-2000</td>\n",
              "      <td>20</td>\n",
              "      <td>FEMALE</td>\n",
              "      <td>982982373</td>\n",
              "    </tr>\n",
              "    <tr>\n",
              "      <th>5</th>\n",
              "      <td>D6</td>\n",
              "      <td>Akshay Kumar</td>\n",
              "      <td>12-12-1995</td>\n",
              "      <td>25</td>\n",
              "      <td>MALE</td>\n",
              "      <td>5873982373</td>\n",
              "    </tr>\n",
              "    <tr>\n",
              "      <th>6</th>\n",
              "      <td>D7</td>\n",
              "      <td>Royston Dmello</td>\n",
              "      <td>26-01-2000</td>\n",
              "      <td>21</td>\n",
              "      <td>MALE</td>\n",
              "      <td>9832005533</td>\n",
              "    </tr>\n",
              "    <tr>\n",
              "      <th>7</th>\n",
              "      <td>D8</td>\n",
              "      <td>Katy Perry</td>\n",
              "      <td>16-10-1993</td>\n",
              "      <td>27</td>\n",
              "      <td>FEMALE</td>\n",
              "      <td>2873982373</td>\n",
              "    </tr>\n",
              "    <tr>\n",
              "      <th>8</th>\n",
              "      <td>D9</td>\n",
              "      <td>Akshay Kumar</td>\n",
              "      <td>12-12-1995</td>\n",
              "      <td>25</td>\n",
              "      <td>MALE</td>\n",
              "      <td>9873982373</td>\n",
              "    </tr>\n",
              "    <tr>\n",
              "      <th>9</th>\n",
              "      <td>D10</td>\n",
              "      <td>Harpreet Singh</td>\n",
              "      <td>24-04-1990</td>\n",
              "      <td>30</td>\n",
              "      <td>MALE</td>\n",
              "      <td>7673982373</td>\n",
              "    </tr>\n",
              "  </tbody>\n",
              "</table>\n",
              "</div>"
            ],
            "text/plain": [
              "  Donor_id      donor_name         DOB  age  Gender  Donor_ph_no\n",
              "0       D1  Royston Dmello  26-01-2000   21    MALE   9832005533\n",
              "1       D2    Nishank Dave  27-02-2000   21    MALE   8936938648\n",
              "2       D3     Manan Dodia  20-02-2000   21    MALE   2829982373\n",
              "3       D4   Julia Roberts  20-03-1999   22  FEMALE   6323982373\n",
              "4       D5    Divya Ghorui  26-06-2000   20  FEMALE    982982373\n",
              "5       D6    Akshay Kumar  12-12-1995   25    MALE   5873982373\n",
              "6       D7  Royston Dmello  26-01-2000   21    MALE   9832005533\n",
              "7       D8      Katy Perry  16-10-1993   27  FEMALE   2873982373\n",
              "8       D9    Akshay Kumar  12-12-1995   25    MALE   9873982373\n",
              "9      D10  Harpreet Singh  24-04-1990   30    MALE   7673982373"
            ]
          },
          "metadata": {
            "tags": []
          },
          "execution_count": 46
        }
      ]
    },
    {
      "cell_type": "code",
      "metadata": {
        "colab": {
          "base_uri": "https://localhost:8080/"
        },
        "id": "NMZCU5pZQWvX",
        "outputId": "1660b4c2-b0af-4444-a173-4ddb5fed7ca6"
      },
      "source": [
        "# Show the tables before dropping\n",
        "cursor.execute(\" SELECT name FROM sqlite_master WHERE type='table' \")\n",
        "print(cursor.fetchall())\n",
        "\n",
        "q9a = '''\n",
        "DROP TABLE donor_3\n",
        "'''\n",
        "cursor.execute(q9a) \n",
        "\n",
        "# Show the tables after dropping\n",
        "cursor.execute(\" SELECT name FROM sqlite_master WHERE type='table' \")\n",
        "print(cursor.fetchall())"
      ],
      "execution_count": null,
      "outputs": [
        {
          "output_type": "stream",
          "text": [
            "[('Donor',), ('Employee',), ('Patient',), ('Blood',), ('Collects_From',), ('donor_3',)]\n",
            "[('Donor',), ('Employee',), ('Patient',), ('Blood',), ('Collects_From',)]\n"
          ],
          "name": "stdout"
        }
      ]
    },
    {
      "cell_type": "markdown",
      "metadata": {
        "id": "QDPxeT28vqor"
      },
      "source": [
        "Q9. Display the hospital id where Akshay Kumar’s blood packets were delivered to"
      ]
    },
    {
      "cell_type": "code",
      "metadata": {
        "colab": {
          "base_uri": "https://localhost:8080/",
          "height": 111
        },
        "id": "D8PUWRgwvrGQ",
        "outputId": "5227156f-db4f-48c3-d860-e6ed6bd4a09a"
      },
      "source": [
        "q10 = '''\n",
        "SELECT p.hospital_id\n",
        "FROM donor as d , blood as b , patient as p\n",
        "WHERE d.donor_name=\"Akshay Kumar\"\n",
        "AND d.donor_id = b.donor_id\n",
        "AND b.patient_id=p.patient_id\n",
        "'''\n",
        "table = pd.read_sql_query(q10, conn_bloodbank)\n",
        "table"
      ],
      "execution_count": null,
      "outputs": [
        {
          "output_type": "execute_result",
          "data": {
            "text/html": [
              "<div>\n",
              "<style scoped>\n",
              "    .dataframe tbody tr th:only-of-type {\n",
              "        vertical-align: middle;\n",
              "    }\n",
              "\n",
              "    .dataframe tbody tr th {\n",
              "        vertical-align: top;\n",
              "    }\n",
              "\n",
              "    .dataframe thead th {\n",
              "        text-align: right;\n",
              "    }\n",
              "</style>\n",
              "<table border=\"1\" class=\"dataframe\">\n",
              "  <thead>\n",
              "    <tr style=\"text-align: right;\">\n",
              "      <th></th>\n",
              "      <th>Hospital_id</th>\n",
              "    </tr>\n",
              "  </thead>\n",
              "  <tbody>\n",
              "    <tr>\n",
              "      <th>0</th>\n",
              "      <td>H2</td>\n",
              "    </tr>\n",
              "    <tr>\n",
              "      <th>1</th>\n",
              "      <td>H3</td>\n",
              "    </tr>\n",
              "  </tbody>\n",
              "</table>\n",
              "</div>"
            ],
            "text/plain": [
              "  Hospital_id\n",
              "0          H2\n",
              "1          H3"
            ]
          },
          "metadata": {
            "tags": []
          },
          "execution_count": 47
        }
      ]
    },
    {
      "cell_type": "markdown",
      "metadata": {
        "id": "2bp6kpmYe5lo"
      },
      "source": [
        "Q10. Calculate the average age of the donors\n"
      ]
    },
    {
      "cell_type": "code",
      "metadata": {
        "colab": {
          "base_uri": "https://localhost:8080/",
          "height": 80
        },
        "id": "ToL-tdP3SUDs",
        "outputId": "9de73bbb-6e76-463a-8238-a5f04ffdde63"
      },
      "source": [
        "q7 = '''\n",
        "SELECT avg(age) as average_age\n",
        "FROM   Donor\n",
        "'''\n",
        "table = pd.read_sql_query(q7, conn_bloodbank)\n",
        "table"
      ],
      "execution_count": null,
      "outputs": [
        {
          "output_type": "execute_result",
          "data": {
            "text/html": [
              "<div>\n",
              "<style scoped>\n",
              "    .dataframe tbody tr th:only-of-type {\n",
              "        vertical-align: middle;\n",
              "    }\n",
              "\n",
              "    .dataframe tbody tr th {\n",
              "        vertical-align: top;\n",
              "    }\n",
              "\n",
              "    .dataframe thead th {\n",
              "        text-align: right;\n",
              "    }\n",
              "</style>\n",
              "<table border=\"1\" class=\"dataframe\">\n",
              "  <thead>\n",
              "    <tr style=\"text-align: right;\">\n",
              "      <th></th>\n",
              "      <th>average_age</th>\n",
              "    </tr>\n",
              "  </thead>\n",
              "  <tbody>\n",
              "    <tr>\n",
              "      <th>0</th>\n",
              "      <td>23.3</td>\n",
              "    </tr>\n",
              "  </tbody>\n",
              "</table>\n",
              "</div>"
            ],
            "text/plain": [
              "   average_age\n",
              "0         23.3"
            ]
          },
          "metadata": {
            "tags": []
          },
          "execution_count": 48
        }
      ]
    },
    {
      "cell_type": "markdown",
      "metadata": {
        "id": "OufZeMdUexIX"
      },
      "source": [
        "Q11. Display the employee ID, donor name and age. Donor’s age should be in descending order.\n"
      ]
    },
    {
      "cell_type": "code",
      "metadata": {
        "colab": {
          "base_uri": "https://localhost:8080/",
          "height": 359
        },
        "id": "zDXMpL_bSTyz",
        "outputId": "afe12f89-d7cf-4a51-af6b-4205f21fb6df"
      },
      "source": [
        "q8 = '''\n",
        "SELECT   C.emp_id, D.donor_name, D.age\n",
        "FROM     collects_from as C, Donor as D\n",
        "WHERE    C.donor_id = D.donor_id\n",
        "ORDER BY D.age DESC\n",
        "'''\n",
        "table = pd.read_sql_query(q8, conn_bloodbank)\n",
        "table"
      ],
      "execution_count": null,
      "outputs": [
        {
          "output_type": "execute_result",
          "data": {
            "text/html": [
              "<div>\n",
              "<style scoped>\n",
              "    .dataframe tbody tr th:only-of-type {\n",
              "        vertical-align: middle;\n",
              "    }\n",
              "\n",
              "    .dataframe tbody tr th {\n",
              "        vertical-align: top;\n",
              "    }\n",
              "\n",
              "    .dataframe thead th {\n",
              "        text-align: right;\n",
              "    }\n",
              "</style>\n",
              "<table border=\"1\" class=\"dataframe\">\n",
              "  <thead>\n",
              "    <tr style=\"text-align: right;\">\n",
              "      <th></th>\n",
              "      <th>Emp_id</th>\n",
              "      <th>donor_name</th>\n",
              "      <th>age</th>\n",
              "    </tr>\n",
              "  </thead>\n",
              "  <tbody>\n",
              "    <tr>\n",
              "      <th>0</th>\n",
              "      <td>E3</td>\n",
              "      <td>Harpreet Singh</td>\n",
              "      <td>30</td>\n",
              "    </tr>\n",
              "    <tr>\n",
              "      <th>1</th>\n",
              "      <td>E10</td>\n",
              "      <td>Katy Perry</td>\n",
              "      <td>27</td>\n",
              "    </tr>\n",
              "    <tr>\n",
              "      <th>2</th>\n",
              "      <td>E3</td>\n",
              "      <td>Akshay Kumar</td>\n",
              "      <td>25</td>\n",
              "    </tr>\n",
              "    <tr>\n",
              "      <th>3</th>\n",
              "      <td>E5</td>\n",
              "      <td>Akshay Kumar</td>\n",
              "      <td>25</td>\n",
              "    </tr>\n",
              "    <tr>\n",
              "      <th>4</th>\n",
              "      <td>E10</td>\n",
              "      <td>Julia Roberts</td>\n",
              "      <td>22</td>\n",
              "    </tr>\n",
              "    <tr>\n",
              "      <th>5</th>\n",
              "      <td>E5</td>\n",
              "      <td>Royston Dmello</td>\n",
              "      <td>21</td>\n",
              "    </tr>\n",
              "    <tr>\n",
              "      <th>6</th>\n",
              "      <td>E3</td>\n",
              "      <td>Royston Dmello</td>\n",
              "      <td>21</td>\n",
              "    </tr>\n",
              "    <tr>\n",
              "      <th>7</th>\n",
              "      <td>E5</td>\n",
              "      <td>Manan Dodia</td>\n",
              "      <td>21</td>\n",
              "    </tr>\n",
              "    <tr>\n",
              "      <th>8</th>\n",
              "      <td>E1</td>\n",
              "      <td>Nishank Dave</td>\n",
              "      <td>21</td>\n",
              "    </tr>\n",
              "    <tr>\n",
              "      <th>9</th>\n",
              "      <td>E3</td>\n",
              "      <td>Divya Ghorui</td>\n",
              "      <td>20</td>\n",
              "    </tr>\n",
              "  </tbody>\n",
              "</table>\n",
              "</div>"
            ],
            "text/plain": [
              "  Emp_id      donor_name  age\n",
              "0     E3  Harpreet Singh   30\n",
              "1    E10      Katy Perry   27\n",
              "2     E3    Akshay Kumar   25\n",
              "3     E5    Akshay Kumar   25\n",
              "4    E10   Julia Roberts   22\n",
              "5     E5  Royston Dmello   21\n",
              "6     E3  Royston Dmello   21\n",
              "7     E5     Manan Dodia   21\n",
              "8     E1    Nishank Dave   21\n",
              "9     E3    Divya Ghorui   20"
            ]
          },
          "metadata": {
            "tags": []
          },
          "execution_count": 49
        }
      ]
    },
    {
      "cell_type": "markdown",
      "metadata": {
        "id": "FUehj7Due9Dq"
      },
      "source": [
        "Q12. Find those employees who have collected blood from donors. \n",
        "\n",
        "Display the donor names in ascending order  "
      ]
    },
    {
      "cell_type": "code",
      "metadata": {
        "colab": {
          "base_uri": "https://localhost:8080/",
          "height": 343
        },
        "id": "uVnQm3IaX34K",
        "outputId": "7b36f0a8-4c4c-4d47-e20f-bd3d72a3e3b1"
      },
      "source": [
        "q9 = '''\n",
        "SELECT E.emp_id, B.donor_id, D.donor_name\n",
        "FROM   Employee as E NATURAL INNER JOIN Blood as b NATURAL INNER JOIN Donor As D\n",
        "ORDER BY D.donor_name\n",
        "'''\n",
        "table = pd.read_sql_query(q9, conn_bloodbank)\n",
        "table"
      ],
      "execution_count": null,
      "outputs": [
        {
          "output_type": "execute_result",
          "data": {
            "text/html": [
              "<div>\n",
              "<style scoped>\n",
              "    .dataframe tbody tr th:only-of-type {\n",
              "        vertical-align: middle;\n",
              "    }\n",
              "\n",
              "    .dataframe tbody tr th {\n",
              "        vertical-align: top;\n",
              "    }\n",
              "\n",
              "    .dataframe thead th {\n",
              "        text-align: right;\n",
              "    }\n",
              "</style>\n",
              "<table border=\"1\" class=\"dataframe\">\n",
              "  <thead>\n",
              "    <tr style=\"text-align: right;\">\n",
              "      <th></th>\n",
              "      <th>Emp_id</th>\n",
              "      <th>Donor_id</th>\n",
              "      <th>donor_name</th>\n",
              "    </tr>\n",
              "  </thead>\n",
              "  <tbody>\n",
              "    <tr>\n",
              "      <th>0</th>\n",
              "      <td>E3</td>\n",
              "      <td>D6</td>\n",
              "      <td>Akshay Kumar</td>\n",
              "    </tr>\n",
              "    <tr>\n",
              "      <th>1</th>\n",
              "      <td>E10</td>\n",
              "      <td>D9</td>\n",
              "      <td>Akshay Kumar</td>\n",
              "    </tr>\n",
              "    <tr>\n",
              "      <th>2</th>\n",
              "      <td>E6</td>\n",
              "      <td>D5</td>\n",
              "      <td>Divya Ghorui</td>\n",
              "    </tr>\n",
              "    <tr>\n",
              "      <th>3</th>\n",
              "      <td>E3</td>\n",
              "      <td>D10</td>\n",
              "      <td>Harpreet Singh</td>\n",
              "    </tr>\n",
              "    <tr>\n",
              "      <th>4</th>\n",
              "      <td>E5</td>\n",
              "      <td>D4</td>\n",
              "      <td>Julia Roberts</td>\n",
              "    </tr>\n",
              "    <tr>\n",
              "      <th>5</th>\n",
              "      <td>E5</td>\n",
              "      <td>D8</td>\n",
              "      <td>Katy Perry</td>\n",
              "    </tr>\n",
              "    <tr>\n",
              "      <th>6</th>\n",
              "      <td>E3</td>\n",
              "      <td>D3</td>\n",
              "      <td>Manan Dodia</td>\n",
              "    </tr>\n",
              "    <tr>\n",
              "      <th>7</th>\n",
              "      <td>E5</td>\n",
              "      <td>D2</td>\n",
              "      <td>Nishank Dave</td>\n",
              "    </tr>\n",
              "    <tr>\n",
              "      <th>8</th>\n",
              "      <td>E10</td>\n",
              "      <td>D1</td>\n",
              "      <td>Royston Dmello</td>\n",
              "    </tr>\n",
              "    <tr>\n",
              "      <th>9</th>\n",
              "      <td>E3</td>\n",
              "      <td>D7</td>\n",
              "      <td>Royston Dmello</td>\n",
              "    </tr>\n",
              "  </tbody>\n",
              "</table>\n",
              "</div>"
            ],
            "text/plain": [
              "  Emp_id Donor_id      donor_name\n",
              "0     E3       D6    Akshay Kumar\n",
              "1    E10       D9    Akshay Kumar\n",
              "2     E6       D5    Divya Ghorui\n",
              "3     E3      D10  Harpreet Singh\n",
              "4     E5       D4   Julia Roberts\n",
              "5     E5       D8      Katy Perry\n",
              "6     E3       D3     Manan Dodia\n",
              "7     E5       D2    Nishank Dave\n",
              "8    E10       D1  Royston Dmello\n",
              "9     E3       D7  Royston Dmello"
            ]
          },
          "metadata": {
            "tags": []
          },
          "execution_count": 6
        }
      ]
    },
    {
      "cell_type": "markdown",
      "metadata": {
        "id": "H-FzmJwJE-JI"
      },
      "source": [
        "Q13. Display employee ID who has done tasks like collecting blood from the donor and delivering blood to a patient."
      ]
    },
    {
      "cell_type": "code",
      "metadata": {
        "colab": {
          "base_uri": "https://localhost:8080/",
          "height": 136
        },
        "id": "QxFyNedgFMls",
        "outputId": "c071103c-8ac8-4d0a-ff6b-b25ae32b9c34"
      },
      "source": [
        "q10 = '''\n",
        "  SELECT emp_id\n",
        "  FROM   blood as B\n",
        "INTERSECT\n",
        "  SELECT emp_id\n",
        "  FROM   patient as P\n",
        "'''\n",
        "table = pd.read_sql_query(q10, conn_bloodbank)\n",
        "table "
      ],
      "execution_count": null,
      "outputs": [
        {
          "output_type": "execute_result",
          "data": {
            "text/html": [
              "<div>\n",
              "<style scoped>\n",
              "    .dataframe tbody tr th:only-of-type {\n",
              "        vertical-align: middle;\n",
              "    }\n",
              "\n",
              "    .dataframe tbody tr th {\n",
              "        vertical-align: top;\n",
              "    }\n",
              "\n",
              "    .dataframe thead th {\n",
              "        text-align: right;\n",
              "    }\n",
              "</style>\n",
              "<table border=\"1\" class=\"dataframe\">\n",
              "  <thead>\n",
              "    <tr style=\"text-align: right;\">\n",
              "      <th></th>\n",
              "      <th>emp_id</th>\n",
              "    </tr>\n",
              "  </thead>\n",
              "  <tbody>\n",
              "    <tr>\n",
              "      <th>0</th>\n",
              "      <td>E10</td>\n",
              "    </tr>\n",
              "    <tr>\n",
              "      <th>1</th>\n",
              "      <td>E3</td>\n",
              "    </tr>\n",
              "    <tr>\n",
              "      <th>2</th>\n",
              "      <td>E5</td>\n",
              "    </tr>\n",
              "  </tbody>\n",
              "</table>\n",
              "</div>"
            ],
            "text/plain": [
              "  emp_id\n",
              "0    E10\n",
              "1     E3\n",
              "2     E5"
            ]
          },
          "metadata": {
            "tags": []
          },
          "execution_count": 11
        }
      ]
    }
  ]
}